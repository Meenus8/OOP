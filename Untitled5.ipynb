{
  "nbformat": 4,
  "nbformat_minor": 0,
  "metadata": {
    "colab": {
      "provenance": []
    },
    "kernelspec": {
      "name": "python3",
      "display_name": "Python 3"
    },
    "language_info": {
      "name": "python"
    }
  },
  "cells": [
    {
      "cell_type": "code",
      "execution_count": null,
      "metadata": {
        "id": "EvTkPPnflvPv"
      },
      "outputs": [],
      "source": []
    },
    {
      "cell_type": "markdown",
      "source": [
        "What is Object-Oriented Programming (OOP)?\n"
      ],
      "metadata": {
        "id": "MrofzfFnl_QF"
      }
    },
    {
      "cell_type": "markdown",
      "source": [
        "Answer:\n",
        "Object-Oriented Programming (OOP) is a paradigm based on the concept of \"objects\", which are instances of classes. It promotes code reuse, modularity, abstraction, and encapsulation."
      ],
      "metadata": {
        "id": "EouyyRzJmDo0"
      }
    },
    {
      "cell_type": "markdown",
      "source": [],
      "metadata": {
        "id": "KGezOHavmB67"
      }
    },
    {
      "cell_type": "markdown",
      "source": [
        "What is a class in OOP?"
      ],
      "metadata": {
        "id": "wsDHvIRCmKZk"
      }
    },
    {
      "cell_type": "markdown",
      "source": [
        "A class is a blueprint for creating objects. It defines a set of attributes and methods that the created objects will have."
      ],
      "metadata": {
        "id": "9pPjNeMZmMqd"
      }
    },
    {
      "cell_type": "markdown",
      "source": [
        "What is an object in OOP?"
      ],
      "metadata": {
        "id": "rx5ty0uSmPGE"
      }
    },
    {
      "cell_type": "markdown",
      "source": [
        "An object is an instance of a class. It contains real data and can perform actions defined by the class methods."
      ],
      "metadata": {
        "id": "CVIRcaCNmQ6E"
      }
    },
    {
      "cell_type": "markdown",
      "source": [
        "What is the difference between abstraction and encapsulation?"
      ],
      "metadata": {
        "id": "B7hD7QSEmT3h"
      }
    },
    {
      "cell_type": "markdown",
      "source": [
        "Answer:\n",
        "\n",
        "Abstraction hides complex implementation details and shows only essential features.\n",
        "\n",
        "Encapsulation hides the internal state and data of an object and only exposes a controlled interface."
      ],
      "metadata": {
        "id": "7_zDTJfzmVyb"
      }
    },
    {
      "cell_type": "markdown",
      "source": [
        "What are dunder methods in Python?"
      ],
      "metadata": {
        "id": "lDTgfWtvmZAL"
      }
    },
    {
      "cell_type": "markdown",
      "source": [
        "Answer:\n",
        "Dunder (Double Underscore) methods like __init__, __str__, and __add__ are special methods used to define object behavior."
      ],
      "metadata": {
        "id": "iRhWlxJWmbC1"
      }
    },
    {
      "cell_type": "markdown",
      "source": [
        "Explain the concept of inheritance in OOP."
      ],
      "metadata": {
        "id": "hrOsiaKRmdXQ"
      }
    },
    {
      "cell_type": "markdown",
      "source": [
        "Answer:\n",
        "Inheritance allows a class (child) to acquire properties and methods from another class (parent), enabling code reuse."
      ],
      "metadata": {
        "id": "i4hTw2IAmggJ"
      }
    },
    {
      "cell_type": "markdown",
      "source": [
        "What is polymorphism in OOP?"
      ],
      "metadata": {
        "id": "uHN1uFAgmiWL"
      }
    },
    {
      "cell_type": "markdown",
      "source": [
        "Answer:\n",
        "Polymorphism allows methods to perform differently based on the object calling them, even if the method name is the same."
      ],
      "metadata": {
        "id": "FPhG_ipPmkMB"
      }
    },
    {
      "cell_type": "markdown",
      "source": [
        "How is encapsulation achieved in Python?"
      ],
      "metadata": {
        "id": "U5eKbTpEmlli"
      }
    },
    {
      "cell_type": "markdown",
      "source": [
        "Answer:\n",
        "Encapsulation is achieved by using private variables (__var) and public methods (getters/setters) to control access."
      ],
      "metadata": {
        "id": "tBFAp2kvmoKK"
      }
    },
    {
      "cell_type": "markdown",
      "source": [
        "What is a constructor in Python?"
      ],
      "metadata": {
        "id": "g48ZrHHrmplJ"
      }
    },
    {
      "cell_type": "markdown",
      "source": [
        "Answer:\n",
        "A constructor is the __init__ method, which initializes object attributes during creation."
      ],
      "metadata": {
        "id": "gM5jh45omrkD"
      }
    },
    {
      "cell_type": "markdown",
      "source": [
        "What are class and static methods in Python?"
      ],
      "metadata": {
        "id": "qk2Cslg7mtar"
      }
    },
    {
      "cell_type": "markdown",
      "source": [
        "Answer:\n",
        "\n",
        "@classmethod: Accesses class state via cls.\n",
        "\n",
        "@staticmethod: Does not access class or instance state."
      ],
      "metadata": {
        "id": "K8eQNO0AmvJR"
      }
    },
    {
      "cell_type": "markdown",
      "source": [
        "What is method overloading in Python?"
      ],
      "metadata": {
        "id": "Fl4iJIhEmwuR"
      }
    },
    {
      "cell_type": "markdown",
      "source": [
        "Answer:\n",
        "Python doesn't support traditional method overloading. It's mimicked using default parameters or *args."
      ],
      "metadata": {
        "id": "VDMVtOwcmyj2"
      }
    },
    {
      "cell_type": "markdown",
      "source": [
        "What is method overriding in OOP?"
      ],
      "metadata": {
        "id": "SDM-sl9tm0Q6"
      }
    },
    {
      "cell_type": "markdown",
      "source": [
        "Answer:\n",
        "Overriding occurs when a subclass provides a new implementation for a method in the parent class."
      ],
      "metadata": {
        "id": "znzp7bPHm16l"
      }
    },
    {
      "cell_type": "markdown",
      "source": [
        "What is a property decorator in Python?"
      ],
      "metadata": {
        "id": "OWDYzFsGm3uy"
      }
    },
    {
      "cell_type": "markdown",
      "source": [
        "Answer:\n",
        "The @property decorator is used to create getter methods that can be accessed like attributes."
      ],
      "metadata": {
        "id": "2fN0SRtem5Ll"
      }
    },
    {
      "cell_type": "markdown",
      "source": [
        "Why is polymorphism important in OOP?"
      ],
      "metadata": {
        "id": "pZZM5lKkm6xI"
      }
    },
    {
      "cell_type": "markdown",
      "source": [
        "Answer:\n",
        "It increases flexibility and reusability by allowing the same interface to be used with different object types."
      ],
      "metadata": {
        "id": "y-lrMJGgm84C"
      }
    },
    {
      "cell_type": "markdown",
      "source": [
        "What is an abstract class in Python?"
      ],
      "metadata": {
        "id": "-lF9bEw3m-rb"
      }
    },
    {
      "cell_type": "markdown",
      "source": [
        "Answer:\n",
        "An abstract class, defined with the abc module, contains one or more abstract methods that must be implemented by subclasses."
      ],
      "metadata": {
        "id": "R3ZCEu8ZnAVi"
      }
    },
    {
      "cell_type": "markdown",
      "source": [
        "What are the advantages of OOP?"
      ],
      "metadata": {
        "id": "O5wxT6CCnCfJ"
      }
    },
    {
      "cell_type": "markdown",
      "source": [
        "Answer:\n",
        "\n",
        "Code Reusability\n",
        "\n",
        "Modularity\n",
        "\n",
        "Data Hiding\n",
        "\n",
        "Scalability\n",
        "\n",
        "Maintainability"
      ],
      "metadata": {
        "id": "NKsrEgJPnEeR"
      }
    },
    {
      "cell_type": "markdown",
      "source": [
        "What is the difference between a class variable and an instance variable?"
      ],
      "metadata": {
        "id": "cGkwS2FmnGLj"
      }
    },
    {
      "cell_type": "markdown",
      "source": [
        "Answer:\n",
        "\n",
        "Class Variable: Shared among all objects\n",
        "\n",
        "Instance Variable: Unique for each object"
      ],
      "metadata": {
        "id": "TElE86flnH4-"
      }
    },
    {
      "cell_type": "markdown",
      "source": [
        "What is multiple inheritance in Python?"
      ],
      "metadata": {
        "id": "6RWrXNM_nJ4C"
      }
    },
    {
      "cell_type": "markdown",
      "source": [
        "Answer:\n",
        "A class can inherit from multiple classes, accessing attributes and methods of all.\n",
        "\n"
      ],
      "metadata": {
        "id": "6pSZMsEdnLfa"
      }
    },
    {
      "cell_type": "markdown",
      "source": [
        "Explain the purpose of __str__ and __repr__"
      ],
      "metadata": {
        "id": "5jzphYI5nNGA"
      }
    },
    {
      "cell_type": "markdown",
      "source": [
        "Answer:\n",
        "\n",
        "__str__: User-friendly representation\n",
        "\n",
        "__repr__: Developer-friendly representation for debugging\n",
        "\n"
      ],
      "metadata": {
        "id": "cpKvgXRKnO-h"
      }
    },
    {
      "cell_type": "markdown",
      "source": [
        "What is the significance of the super() function?"
      ],
      "metadata": {
        "id": "A7A18BuMnQby"
      }
    },
    {
      "cell_type": "markdown",
      "source": [
        "Answer:\n",
        "super() allows a subclass to call methods from its superclass, especially the constructor."
      ],
      "metadata": {
        "id": "Yz6ucBOWnSKw"
      }
    },
    {
      "cell_type": "markdown",
      "source": [
        "What is the significance of the __del__ method?"
      ],
      "metadata": {
        "id": "euKLxHXLnTqK"
      }
    },
    {
      "cell_type": "markdown",
      "source": [
        "Answer:\n",
        "__del__ is a destructor method, called when an object is deleted to clean up resources."
      ],
      "metadata": {
        "id": "IpyxChnmnVg8"
      }
    },
    {
      "cell_type": "markdown",
      "source": [
        "ifference between @staticmethod and @classmethod?"
      ],
      "metadata": {
        "id": "9ucyr_GwnXIr"
      }
    },
    {
      "cell_type": "markdown",
      "source": [
        "Answer:\n",
        "\n",
        "@staticmethod: Doesn't access class or instance\n",
        "\n",
        "@classmethod: Receives the class (cls) as the first argument"
      ],
      "metadata": {
        "id": "-VDcXfmhnY4B"
      }
    },
    {
      "cell_type": "markdown",
      "source": [
        "How does polymorphism work with inheritance?"
      ],
      "metadata": {
        "id": "ejOUlLKwnaxp"
      }
    },
    {
      "cell_type": "markdown",
      "source": [
        "Answer:\n",
        "Polymorphism allows subclasses to override parent methods, and Python automatically calls the appropriate method."
      ],
      "metadata": {
        "id": "hDc9cK0Tndm7"
      }
    },
    {
      "cell_type": "markdown",
      "source": [
        "What is method chaining?"
      ],
      "metadata": {
        "id": "BP1beOolnfFR"
      }
    },
    {
      "cell_type": "markdown",
      "source": [
        "Answer:\n",
        "It’s a technique where each method returns self, allowing multiple method calls in a single statement."
      ],
      "metadata": {
        "id": "PZYQvf50ng2b"
      }
    },
    {
      "cell_type": "markdown",
      "source": [
        "What is the purpose of the __call__ method?"
      ],
      "metadata": {
        "id": "jb2QXCX9ni9h"
      }
    },
    {
      "cell_type": "markdown",
      "source": [
        "Answer:\n",
        "It allows an instance to be called like a function."
      ],
      "metadata": {
        "id": "gdI_DM6Cnk_Z"
      }
    },
    {
      "cell_type": "markdown",
      "source": [
        " Create a parent class Animal with a method speak() that prints a generic message. Create a child class Dog\n",
        "that overrides the speak() method to print \"Bark!\"."
      ],
      "metadata": {
        "id": "KaJaxEoKnr34"
      }
    },
    {
      "cell_type": "code",
      "source": [
        "class Animal:\n",
        "    def speak(self):\n",
        "        print(\"Animal speaks\")\n",
        "\n",
        "class Dog(Animal):\n",
        "    def speak(self):\n",
        "        print(\"Bark!\")\n",
        "\n",
        "Dog().speak()\n"
      ],
      "metadata": {
        "colab": {
          "base_uri": "https://localhost:8080/"
        },
        "id": "z-zHlge3nsmj",
        "outputId": "1c1da9e9-8bf9-4b1f-e992-3b52423ebd68"
      },
      "execution_count": 1,
      "outputs": [
        {
          "output_type": "stream",
          "name": "stdout",
          "text": [
            "Bark!\n"
          ]
        }
      ]
    },
    {
      "cell_type": "markdown",
      "source": [
        "2. Write a program to create an abstract class Shape with a method area(). Derive classes Circle and Rectangle\n",
        "from it and implement the area() method in both.\n",
        "\n",
        "\n"
      ],
      "metadata": {
        "id": "wuzym2SqnyM7"
      }
    },
    {
      "cell_type": "code",
      "source": [
        "from abc import ABC, abstractmethod\n",
        "\n",
        "class Shape(ABC):\n",
        "    @abstractmethod\n",
        "    def area(self):\n",
        "        pass\n",
        "\n",
        "class Circle(Shape):\n",
        "    def __init__(self, r): self.r = r\n",
        "    def area(self): return 3.14 * self.r * self.r\n",
        "\n",
        "class Rectangle(Shape):\n",
        "    def __init__(self, w, h): self.w = w; self.h = h\n",
        "    def area(self): return self.w * self.h\n",
        "\n",
        "print(Circle(5).area(), Rectangle(4, 5).area())\n"
      ],
      "metadata": {
        "colab": {
          "base_uri": "https://localhost:8080/"
        },
        "id": "UcKgA5Ssn1L1",
        "outputId": "4d388335-a3f8-46c7-b4ec-e681784e31b9"
      },
      "execution_count": 2,
      "outputs": [
        {
          "output_type": "stream",
          "name": "stdout",
          "text": [
            "78.5 20\n"
          ]
        }
      ]
    },
    {
      "cell_type": "markdown",
      "source": [
        "3. Implement a multi-level inheritance scenario where a class Vehicle has an attribute type. Derive a class Car\n",
        "and further derive a class ElectricCar that adds a battery attribute."
      ],
      "metadata": {
        "id": "76BjHVELn5MS"
      }
    },
    {
      "cell_type": "code",
      "source": [
        "class Vehicle:\n",
        "    def __init__(self, type): self.type = type\n",
        "\n",
        "class Car(Vehicle):\n",
        "    def __init__(self, type, model): super().__init__(type); self.model = model\n",
        "\n",
        "class ElectricCar(Car):\n",
        "    def __init__(self, type, model, battery): super().__init__(type, model); self.battery = battery\n",
        "\n",
        "print(ElectricCar(\"Electric\", \"Tesla\", \"85kWh\").battery)\n"
      ],
      "metadata": {
        "colab": {
          "base_uri": "https://localhost:8080/"
        },
        "id": "Vmm7hWvXn7Og",
        "outputId": "01e2a867-a829-496e-ce4f-71ed67469574"
      },
      "execution_count": 3,
      "outputs": [
        {
          "output_type": "stream",
          "name": "stdout",
          "text": [
            "85kWh\n"
          ]
        }
      ]
    },
    {
      "cell_type": "markdown",
      "source": [
        " Demonstrate polymorphism by creating a base class Bird with a method fly(). Create two derived classes\n",
        "Sparrow and Penguin that override the fly() method.\n"
      ],
      "metadata": {
        "id": "UWElwOr0n-76"
      }
    },
    {
      "cell_type": "code",
      "source": [
        "class Bird:\n",
        "    def fly(self): print(\"Bird flying\")\n",
        "\n",
        "class Sparrow(Bird):\n",
        "    def fly(self): print(\"Sparrow flies\")\n",
        "\n",
        "class Penguin(Bird):\n",
        "    def fly(self): print(\"Penguin can't fly\")\n",
        "\n",
        "for bird in [Sparrow(), Penguin()]: bird.fly()\n"
      ],
      "metadata": {
        "colab": {
          "base_uri": "https://localhost:8080/"
        },
        "id": "2bZ6Ta0GoBiK",
        "outputId": "ca6906ba-cab4-4d45-ad8c-87c7a64af856"
      },
      "execution_count": 4,
      "outputs": [
        {
          "output_type": "stream",
          "name": "stdout",
          "text": [
            "Sparrow flies\n",
            "Penguin can't fly\n"
          ]
        }
      ]
    },
    {
      "cell_type": "markdown",
      "source": [
        "5. Write a program to demonstrate encapsulation by creating a class BankAccount with private attributes\n",
        "balance and methods to deposit, withdraw, and check balance."
      ],
      "metadata": {
        "id": "leD4IjckoEpt"
      }
    },
    {
      "cell_type": "code",
      "source": [
        "class BankAccount:\n",
        "    def __init__(self): self.__balance = 0\n",
        "    def deposit(self, amt): self.__balance += amt\n",
        "    def withdraw(self, amt): self.__balance -= amt\n",
        "    def check_balance(self): return self.__balance\n",
        "\n",
        "b = BankAccount(); b.deposit(1000); b.withdraw(500)\n",
        "print(b.check_balance())\n"
      ],
      "metadata": {
        "colab": {
          "base_uri": "https://localhost:8080/"
        },
        "id": "KRrUzOA8oJm5",
        "outputId": "3d2001c3-f29e-4bd1-9a1c-922633a6901c"
      },
      "execution_count": 5,
      "outputs": [
        {
          "output_type": "stream",
          "name": "stdout",
          "text": [
            "500\n"
          ]
        }
      ]
    },
    {
      "cell_type": "markdown",
      "source": [
        " Demonstrate runtime polymorphism using a method play() in a base class Instrument. Derive classes Guitar\n",
        "and Piano that implement their own version of play()."
      ],
      "metadata": {
        "id": "24gk4W8voLsJ"
      }
    },
    {
      "cell_type": "code",
      "source": [
        "class Instrument:\n",
        "    def play(self): print(\"Instrument\")\n",
        "\n",
        "class Guitar(Instrument):\n",
        "    def play(self): print(\"Guitar\")\n",
        "\n",
        "class Piano(Instrument):\n",
        "    def play(self): print(\"Piano\")\n",
        "\n",
        "for i in [Guitar(), Piano()]: i.play()\n"
      ],
      "metadata": {
        "colab": {
          "base_uri": "https://localhost:8080/"
        },
        "id": "HmEwI7ZboPlT",
        "outputId": "975c6cdf-c3fe-44f5-96e4-22d0b25cbdf2"
      },
      "execution_count": 6,
      "outputs": [
        {
          "output_type": "stream",
          "name": "stdout",
          "text": [
            "Guitar\n",
            "Piano\n"
          ]
        }
      ]
    },
    {
      "cell_type": "markdown",
      "source": [
        "7. Create a class MathOperations with a class method add_numbers() to add two numbers and a static\n",
        "method subtract_numbers() to subtract two numbers."
      ],
      "metadata": {
        "id": "jG3nMl1toR_h"
      }
    },
    {
      "cell_type": "code",
      "source": [
        "class MathOperations:\n",
        "    @classmethod\n",
        "    def add(cls, a, b): return a + b\n",
        "    @staticmethod\n",
        "    def subtract(a, b): return a - b\n",
        "\n",
        "print(MathOperations.add(3, 2), MathOperations.subtract(5, 2))\n"
      ],
      "metadata": {
        "colab": {
          "base_uri": "https://localhost:8080/"
        },
        "id": "JrhZeMnDoUCZ",
        "outputId": "b54e28f9-aa3d-46dd-db1a-f63b9ef54845"
      },
      "execution_count": 7,
      "outputs": [
        {
          "output_type": "stream",
          "name": "stdout",
          "text": [
            "5 3\n"
          ]
        }
      ]
    },
    {
      "cell_type": "markdown",
      "source": [
        "8. Implement a class Person with a class method to count the total number of persons created.\n",
        "\n",
        "\n"
      ],
      "metadata": {
        "id": "L6NXHPdtoWps"
      }
    },
    {
      "cell_type": "code",
      "source": [
        "class Person:\n",
        "    count = 0\n",
        "    def __init__(self, name): self.name = name; Person.count += 1\n",
        "    @classmethod\n",
        "    def total(cls): return cls.count\n",
        "\n",
        "p1 = Person(\"A\"); p2 = Person(\"B\")\n",
        "print(Person.total())\n"
      ],
      "metadata": {
        "colab": {
          "base_uri": "https://localhost:8080/"
        },
        "id": "HgVK4qJHoY1a",
        "outputId": "778d938b-e622-427e-f0ff-b5f7b71b731a"
      },
      "execution_count": 8,
      "outputs": [
        {
          "output_type": "stream",
          "name": "stdout",
          "text": [
            "2\n"
          ]
        }
      ]
    },
    {
      "cell_type": "markdown",
      "source": [
        "9. Write a class Fraction with attributes numerator and denominator. Override the str method to display the\n",
        "fraction as \"numerator/denominator\"."
      ],
      "metadata": {
        "id": "9Jk0IMh9obRS"
      }
    },
    {
      "cell_type": "code",
      "source": [
        "class Fraction:\n",
        "    def __init__(self, n, d): self.n = n; self.d = d\n",
        "    def __str__(self): return f\"{self.n}/{self.d}\"\n",
        "\n",
        "print(Fraction(2, 5))\n"
      ],
      "metadata": {
        "colab": {
          "base_uri": "https://localhost:8080/"
        },
        "id": "4NPmZL87ofq5",
        "outputId": "20cfc9ac-0aaa-4ea8-8333-1570efa6121a"
      },
      "execution_count": 9,
      "outputs": [
        {
          "output_type": "stream",
          "name": "stdout",
          "text": [
            "2/5\n"
          ]
        }
      ]
    },
    {
      "cell_type": "markdown",
      "source": [
        "10. Demonstrate operator overloading by creating a class Vector and overriding the add method to add two\n",
        "vectors"
      ],
      "metadata": {
        "id": "-UJabNc2oj4R"
      }
    },
    {
      "cell_type": "code",
      "source": [
        "class Vector:\n",
        "    def __init__(self, x, y): self.x = x; self.y = y\n",
        "    def __add__(self, other): return Vector(self.x + other.x, self.y + other.y)\n",
        "    def __str__(self): return f\"({self.x}, {self.y})\"\n",
        "\n",
        "print(Vector(1,2) + Vector(3,4))\n"
      ],
      "metadata": {
        "colab": {
          "base_uri": "https://localhost:8080/"
        },
        "id": "Fu3xrNhIomLI",
        "outputId": "51843495-d823-4e87-ecde-5c7b54f7d1df"
      },
      "execution_count": 10,
      "outputs": [
        {
          "output_type": "stream",
          "name": "stdout",
          "text": [
            "(4, 6)\n"
          ]
        }
      ]
    },
    {
      "cell_type": "markdown",
      "source": [
        "11. Create a class Person with attributes name and age. Add a method greet() that prints \"Hello, my name is\n",
        "{name} and I am {age} years old.\""
      ],
      "metadata": {
        "id": "oqOJJ_HmooOR"
      }
    },
    {
      "cell_type": "code",
      "source": [
        "class Person:\n",
        "    def __init__(self, name, age): self.name = name; self.age = age\n",
        "    def greet(self): print(f\"Hi I'm {self.name}, {self.age} yrs old\")\n",
        "\n",
        "Person(\"Mio\", 23).greet()\n"
      ],
      "metadata": {
        "colab": {
          "base_uri": "https://localhost:8080/"
        },
        "id": "iMQ6Oo1yoqKJ",
        "outputId": "46c63198-122e-4768-9786-3411dec06084"
      },
      "execution_count": 11,
      "outputs": [
        {
          "output_type": "stream",
          "name": "stdout",
          "text": [
            "Hi I'm Mio, 23 yrs old\n"
          ]
        }
      ]
    },
    {
      "cell_type": "markdown",
      "source": [
        "12. Implement a class Student with attributes name and grades. Create a method average_grade() to compute\n",
        "the average of the grades."
      ],
      "metadata": {
        "id": "mHVlM1c9ouQx"
      }
    },
    {
      "cell_type": "code",
      "source": [
        "class Student:\n",
        "    def __init__(self, name, grades): self.name = name; self.grades = grades\n",
        "    def average_grade(self): return sum(self.grades) / len(self.grades)\n",
        "\n",
        "print(Student(\"A\", [90, 95, 80]).average_grade())\n"
      ],
      "metadata": {
        "colab": {
          "base_uri": "https://localhost:8080/"
        },
        "id": "7jbJ3I3WoyAB",
        "outputId": "d27a407f-1bac-49fe-9f6a-330cf0925f7b"
      },
      "execution_count": 12,
      "outputs": [
        {
          "output_type": "stream",
          "name": "stdout",
          "text": [
            "88.33333333333333\n"
          ]
        }
      ]
    },
    {
      "cell_type": "markdown",
      "source": [
        "13. Create a class Rectangle with methods set_dimensions() to set the dimensions and area() to calculate the\n",
        "area."
      ],
      "metadata": {
        "id": "HMylL7n6ozlL"
      }
    },
    {
      "cell_type": "code",
      "source": [
        "class Rectangle:\n",
        "    def set_dimensions(self, w, h): self.w = w; self.h = h\n",
        "    def area(self): return self.w * self.h\n",
        "\n",
        "r = Rectangle(); r.set_dimensions(4, 5)\n",
        "print(r.area())\n"
      ],
      "metadata": {
        "colab": {
          "base_uri": "https://localhost:8080/"
        },
        "id": "T8yVHELxo1t2",
        "outputId": "fcf69047-618b-4e84-ca33-e6c526122dd1"
      },
      "execution_count": 13,
      "outputs": [
        {
          "output_type": "stream",
          "name": "stdout",
          "text": [
            "20\n"
          ]
        }
      ]
    },
    {
      "cell_type": "markdown",
      "source": [
        "14. Create a class Employee with a method calculate_salary() that computes the salary based on hours worked\n",
        "and hourly rate. Create a derived class Manager that adds a bonus to the salary."
      ],
      "metadata": {
        "id": "eNJeXmNEo4Xh"
      }
    },
    {
      "cell_type": "code",
      "source": [
        "class Employee:\n",
        "    def __init__(self, hours, rate): self.hours = hours; self.rate = rate\n",
        "    def calculate_salary(self): return self.hours * self.rate\n",
        "\n",
        "class Manager(Employee):\n",
        "    def __init__(self, hours, rate, bonus): super().__init__(hours, rate); self.bonus = bonus\n",
        "    def calculate_salary(self): return super().calculate_salary() + self.bonus\n",
        "\n",
        "print(Manager(40, 100, 5000).calculate_salary())\n"
      ],
      "metadata": {
        "colab": {
          "base_uri": "https://localhost:8080/"
        },
        "id": "dg53UqVKo63b",
        "outputId": "0ffb7394-8355-40ff-eb79-8ef1c5084463"
      },
      "execution_count": 14,
      "outputs": [
        {
          "output_type": "stream",
          "name": "stdout",
          "text": [
            "9000\n"
          ]
        }
      ]
    },
    {
      "cell_type": "markdown",
      "source": [
        "15. Create a class Product with attributes name, price, and quantity. Implement a method total_price() that\n",
        "calculates the total price of the product."
      ],
      "metadata": {
        "id": "Y6ALVdMio-AT"
      }
    },
    {
      "cell_type": "code",
      "source": [
        "class Product:\n",
        "    def __init__(self, name, price, quantity): self.name = name; self.price = price; self.quantity = quantity\n",
        "    def total_price(self): return self.price * self.quantity\n",
        "\n",
        "print(Product(\"Laptop\", 50000, 2).total_price())\n"
      ],
      "metadata": {
        "colab": {
          "base_uri": "https://localhost:8080/"
        },
        "id": "i7XgLZsPpAS5",
        "outputId": "2536fdcc-fc7d-499d-e683-7e2d7e9a21db"
      },
      "execution_count": 15,
      "outputs": [
        {
          "output_type": "stream",
          "name": "stdout",
          "text": [
            "100000\n"
          ]
        }
      ]
    },
    {
      "cell_type": "markdown",
      "source": [
        "16. Create a class Animal with an abstract method sound(). Create two derived classes Cow and Sheep that\n",
        "implement the sound() method."
      ],
      "metadata": {
        "id": "u7PrEbogpDvp"
      }
    },
    {
      "cell_type": "code",
      "source": [
        "from abc import ABC, abstractmethod\n",
        "\n",
        "class Animal(ABC):\n",
        "    @abstractmethod\n",
        "    def sound(self): pass\n",
        "\n",
        "class Cow(Animal):\n",
        "    def sound(self): return \"Moo\"\n",
        "\n",
        "class Sheep(Animal):\n",
        "    def sound(self): return \"Baa\"\n",
        "\n",
        "for a in [Cow(), Sheep()]: print(a.sound())\n"
      ],
      "metadata": {
        "colab": {
          "base_uri": "https://localhost:8080/"
        },
        "id": "0Ng8zI8OpFsZ",
        "outputId": "a72873fe-b1a8-4c80-c76b-b62b4f4cf079"
      },
      "execution_count": 16,
      "outputs": [
        {
          "output_type": "stream",
          "name": "stdout",
          "text": [
            "Moo\n",
            "Baa\n"
          ]
        }
      ]
    },
    {
      "cell_type": "markdown",
      "source": [
        "17. Create a class Book with attributes title, author, and year_published. Add a method get_book_info() that\n",
        "returns a formatted string with the book's details."
      ],
      "metadata": {
        "id": "XILnRo8apIxg"
      }
    },
    {
      "cell_type": "code",
      "source": [
        "class Book:\n",
        "    def __init__(self, title, author, year): self.title = title; self.author = author; self.year = year\n",
        "    def get_book_info(self): return f\"{self.title} by {self.author} ({self.year})\"\n",
        "\n",
        "print(Book(\"1984\", \"Orwell\", 1949).get_book_info())\n"
      ],
      "metadata": {
        "colab": {
          "base_uri": "https://localhost:8080/"
        },
        "id": "xA_Ra85UpKoQ",
        "outputId": "456c12d6-7033-40a5-956c-8539f286b1cd"
      },
      "execution_count": 17,
      "outputs": [
        {
          "output_type": "stream",
          "name": "stdout",
          "text": [
            "1984 by Orwell (1949)\n"
          ]
        }
      ]
    },
    {
      "cell_type": "markdown",
      "source": [
        "18. Create a class House with attributes address and price. Create a derived class Mansion that adds an\n",
        "attribute number_of_rooms."
      ],
      "metadata": {
        "id": "hzwF4iG8pNMy"
      }
    },
    {
      "cell_type": "code",
      "source": [
        "class House:\n",
        "    def __init__(self, address, price): self.address = address; self.price = price\n",
        "\n",
        "class Mansion(House):\n",
        "    def __init__(self, address, price, rooms): super().__init__(address, price); self.rooms = rooms\n",
        "\n",
        "m = Mansion(\"Street 1\", 1000000, 10)\n",
        "print(m.address, m.price, m.rooms)\n"
      ],
      "metadata": {
        "colab": {
          "base_uri": "https://localhost:8080/"
        },
        "id": "nEpaO5pGpPI5",
        "outputId": "eeb63896-885f-4808-9898-893418fae999"
      },
      "execution_count": 18,
      "outputs": [
        {
          "output_type": "stream",
          "name": "stdout",
          "text": [
            "Street 1 1000000 10\n"
          ]
        }
      ]
    }
  ]
}